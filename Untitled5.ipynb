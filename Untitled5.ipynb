{
 "cells": [
  {
   "cell_type": "code",
   "execution_count": 2,
   "metadata": {},
   "outputs": [],
   "source": [
    "from time import sleep\n",
    "from termcolor import colored\n",
    "from random import choice\n",
    "from simpleeval import simple_eval\n",
    "\n",
    "\n",
    "class Bot:\n",
    "    \n",
    "    wait = 1\n",
    "    \n",
    "    # self.runtype: run type of the bot, can be 'once' or 'looped', default to 'once'.\n",
    "    def __init__(self, runtype='once'):\n",
    "        self.runtype = runtype\n",
    "        self.q = ''\n",
    "        self.a = ''\n",
    "       \n",
    "    def _think(self, s):\n",
    "        return s\n",
    "    \n",
    "    def _format(self, s):\n",
    "        return colored(s, 'blue')\n",
    "    \n",
    "    def _run_once(self):\n",
    "        sleep(Bot.wait)\n",
    "        print(self._format(self.q))\n",
    "        self.a = input()\n",
    "        sleep(Bot.wait)\n",
    "        print(self._format(self._think(self.a)))\n",
    "        \n",
    "    def _run_looped(self):\n",
    "        sleep(Bot.wait)\n",
    "        print(self._format(self.q))\n",
    "        while True:\n",
    "            self.a = input()\n",
    "            if self.a.lower() in ['q', 'x', 'quit', 'exit']:\n",
    "                break\n",
    "            sleep(Bot.wait)\n",
    "            print(self._format(self._think(self.a)))\n",
    "    \n",
    "    def run(self):\n",
    "        if self.runtype == 'once':\n",
    "            self._run_once()\n",
    "        elif self.runtype == 'looped':\n",
    "            self._run_looped()"
   ]
  },
  {
   "cell_type": "code",
   "execution_count": 5,
   "metadata": {},
   "outputs": [],
   "source": [
    "from simpleeval import simple_eval\n",
    "\n",
    "class CalcBot(Bot):\n",
    "    def __init__(self):\n",
    "        self.q = \"\"\"Through recent upgrade I can do calculation now.\n",
    "        Input some arithmetic expression to try: \"\"\"\n",
    "     \n",
    "    def _think(self, s):\n",
    "        result = simple_eval(s)\n",
    "        return f\"Result = {result}\"\n",
    "    \n",
    "    def run(self):\n",
    "        sleep(Bot.wait)\n",
    "        print(self._format(self.q))\n",
    "        while True:\n",
    "            self.a = input()\n",
    "            if self.a.lower() in ['q', 'x', 'quit', 'exit']:\n",
    "                break\n",
    "            sleep(Bot.wait)\n",
    "            print(self._format(self._think(self.a)))"
   ]
  },
  {
   "cell_type": "code",
   "execution_count": 3,
   "metadata": {},
   "outputs": [],
   "source": [
    "class Magpie:\n",
    "    def __init__(self, wait=1):\n",
    "        Bot.wait = wait\n",
    "        self.bots = []\n",
    "        \n",
    "    def add(self, bot):\n",
    "        self.bots.append(bot)\n",
    "        \n",
    "    def _prompt(self, s):\n",
    "        print(s)\n",
    "        print()\n",
    "        \n",
    "    def run(self):\n",
    "        self._prompt(\"This is Garfield dialog system. Let's talk.\")\n",
    "        for bot in self.bots:\n",
    "            bot.run()"
   ]
  },
  {
   "cell_type": "code",
   "execution_count": 6,
   "metadata": {},
   "outputs": [
    {
     "name": "stdout",
     "output_type": "stream",
     "text": [
      "This is Garfield dialog system. Let's talk.\n",
      "\n",
      "\u001b[34mThrough recent upgrade I can do calculation now.\n",
      "        Input some arithmetic expression to try: \u001b[0m\n"
     ]
    },
    {
     "name": "stdin",
     "output_type": "stream",
     "text": [
      " 9-9\n"
     ]
    },
    {
     "name": "stdout",
     "output_type": "stream",
     "text": [
      "\u001b[34mResult = 0\u001b[0m\n"
     ]
    },
    {
     "name": "stdin",
     "output_type": "stream",
     "text": [
      " 9**7\n"
     ]
    },
    {
     "name": "stdout",
     "output_type": "stream",
     "text": [
      "\u001b[34mResult = 4782969\u001b[0m\n"
     ]
    },
    {
     "name": "stdin",
     "output_type": "stream",
     "text": [
      " q\n"
     ]
    }
   ],
   "source": [
    "magpie = Magpie(1)\n",
    "magpie.add(CalcBot())\n",
    "magpie.run()"
   ]
  }
 ],
 "metadata": {
  "kernelspec": {
   "display_name": "Python 3",
   "language": "python",
   "name": "python3"
  },
  "language_info": {
   "codemirror_mode": {
    "name": "ipython",
    "version": 3
   },
   "file_extension": ".py",
   "mimetype": "text/x-python",
   "name": "python",
   "nbconvert_exporter": "python",
   "pygments_lexer": "ipython3",
   "version": "3.7.4"
  }
 },
 "nbformat": 4,
 "nbformat_minor": 4
}
