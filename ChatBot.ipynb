{
 "cells": [
  {
   "cell_type": "code",
   "execution_count": 1,
   "metadata": {},
   "outputs": [],
   "source": [
    "from time import sleep\n",
    "from termcolor import colored\n",
    "from random import choice\n",
    "from simpleeval import simple_eval\n",
    "\n",
    "\n",
    "class Bot:\n",
    "    \n",
    "    wait = 1\n",
    "    \n",
    "    # self.runtype: run type of the bot, can be 'once' or 'looped', default to 'once'.\n",
    "    def __init__(self, runtype='once'):\n",
    "        self.runtype = runtype\n",
    "        self.q = ''\n",
    "        self.a = ''\n",
    "       \n",
    "    def _think(self, s):\n",
    "        return s\n",
    "    \n",
    "    def _format(self, s):\n",
    "        return colored(s, 'blue')\n",
    "    \n",
    "    def _run_once(self):\n",
    "        sleep(Bot.wait)\n",
    "        print(self._format(self.q))\n",
    "        self.a = input()\n",
    "        sleep(Bot.wait)\n",
    "        print(self._format(self._think(self.a)))\n",
    "        \n",
    "    def _run_looped(self):\n",
    "        sleep(Bot.wait)\n",
    "        print(self._format(self.q))\n",
    "        while True:\n",
    "            self.a = input()\n",
    "            if self.a.lower() in ['q', 'x', 'quit', 'exit']:\n",
    "                break\n",
    "            sleep(Bot.wait)\n",
    "            print(self._format(self._think(self.a)))\n",
    "    \n",
    "    def run(self):\n",
    "        if self.runtype == 'once':\n",
    "            self._run_once()\n",
    "        elif self.runtype == 'looped':\n",
    "            self._run_looped()"
   ]
  },
  {
   "cell_type": "code",
   "execution_count": 2,
   "metadata": {},
   "outputs": [],
   "source": [
    "class HelloBot(Bot):\n",
    "    def __init__(self, runtype='once'):\n",
    "        super().__init__(runtype)\n",
    "        self.q = \"Hi, what's your name?\"\n",
    "        \n",
    "    def _think(self, s):\n",
    "        return f\"Hello {s}.\""
   ]
  },
  {
   "cell_type": "code",
   "execution_count": 3,
   "metadata": {},
   "outputs": [],
   "source": [
    "class GreetingBot(Bot):\n",
    "    def __init__(self, runtype='once'):\n",
    "        super().__init__(runtype)\n",
    "        self.q = 'How are you today?'\n",
    "        \n",
    "    def _think(self, s):\n",
    "        if 'good' in s.lower() or 'fine' in s.lower():\n",
    "            return \"I'm feeling good too.\"\n",
    "        else:\n",
    "            return 'Sorry to hear that.'"
   ]
  },
  {
   "cell_type": "code",
   "execution_count": 4,
   "metadata": {},
   "outputs": [],
   "source": [
    "import random \n",
    "\n",
    "class FavoriteColorBot(Bot):\n",
    "    def __init__(self, runtype='once'):\n",
    "        super().__init__(runtype)\n",
    "        self.q = 'what is your favorate color?'\n",
    "        \n",
    "    def _think(self, s):\n",
    "        colors = ['red', 'orange', 'yellow', 'green', 'blue', 'indigo', 'purple']\n",
    "        return f\"You like {s.lower()}? My favorate color is {random.choice(colors)}\""
   ]
  },
  {
   "cell_type": "code",
   "execution_count": 5,
   "metadata": {},
   "outputs": [],
   "source": [
    "class Garfield:\n",
    "    def __init__(self, wait=1):\n",
    "        Bot.wait = wait\n",
    "        self.bots = []\n",
    "        \n",
    "    def add(self, bot):\n",
    "        self.bots.append(bot)\n",
    "        \n",
    "    def _prompt(self, s):\n",
    "        print(s)\n",
    "        print()\n",
    "        \n",
    "    def run(self):\n",
    "        self._prompt(\"This is Garfield dialog system. Let's talk.\")\n",
    "        for bot in self.bots:\n",
    "            bot.run()"
   ]
  },
  {
   "cell_type": "code",
   "execution_count": 6,
   "metadata": {},
   "outputs": [],
   "source": [
    "from simpleeval import simple_eval\n",
    "\n",
    "class CalcBot(Bot):\n",
    "    def __init__(self, runtype='once'):\n",
    "        super().__init__(runtype)\n",
    "        self.q = \"Through recent upgrade I can do calculation now. Input some arithmetic expression to try.\"\n",
    "        \n",
    "    def _think(self, s):\n",
    "        result = simple_eval(s)\n",
    "        return f\"Done. Result = {result}\""
   ]
  },
  {
   "cell_type": "code",
   "execution_count": 9,
   "metadata": {},
   "outputs": [
    {
     "name": "stdout",
     "output_type": "stream",
     "text": [
      "This is Garfield dialog system. Let's talk.\n",
      "\n",
      "\u001b[34mHi, what's your name?\u001b[0m\n"
     ]
    },
    {
     "name": "stdin",
     "output_type": "stream",
     "text": [
      " dd\n"
     ]
    },
    {
     "name": "stdout",
     "output_type": "stream",
     "text": [
      "\u001b[34mHello dd.\u001b[0m\n",
      "\u001b[34mHow are you today?\u001b[0m\n"
     ]
    },
    {
     "name": "stdin",
     "output_type": "stream",
     "text": [
      " good\n"
     ]
    },
    {
     "name": "stdout",
     "output_type": "stream",
     "text": [
      "\u001b[34mI'm feeling good too.\u001b[0m\n",
      "\u001b[34mwhat is your favorate color?\u001b[0m\n"
     ]
    },
    {
     "name": "stdin",
     "output_type": "stream",
     "text": [
      " red\n"
     ]
    },
    {
     "name": "stdout",
     "output_type": "stream",
     "text": [
      "\u001b[34mYou like red? My favorate color is yellow\u001b[0m\n"
     ]
    },
    {
     "name": "stdin",
     "output_type": "stream",
     "text": [
      " blue\n"
     ]
    },
    {
     "name": "stdout",
     "output_type": "stream",
     "text": [
      "\u001b[34mYou like blue? My favorate color is blue\u001b[0m\n"
     ]
    },
    {
     "name": "stdin",
     "output_type": "stream",
     "text": [
      " indigo\n"
     ]
    },
    {
     "name": "stdout",
     "output_type": "stream",
     "text": [
      "\u001b[34mYou like indigo? My favorate color is purple\u001b[0m\n"
     ]
    },
    {
     "name": "stdin",
     "output_type": "stream",
     "text": [
      " q\n"
     ]
    },
    {
     "name": "stdout",
     "output_type": "stream",
     "text": [
      "\u001b[34mThrough recent upgrade I can do calculation now. Input some arithmetic expression to try.\u001b[0m\n"
     ]
    },
    {
     "name": "stdin",
     "output_type": "stream",
     "text": [
      " 9%6\n"
     ]
    },
    {
     "name": "stdout",
     "output_type": "stream",
     "text": [
      "\u001b[34mDone. Result = 3\u001b[0m\n"
     ]
    },
    {
     "name": "stdin",
     "output_type": "stream",
     "text": [
      " x\n"
     ]
    }
   ],
   "source": [
    "garfield = Garfield()\n",
    "garfield.add(HelloBot())\n",
    "garfield.add(GreetingBot())\n",
    "garfield.add(FavoriteColorBot('looped'))\n",
    "garfield.add(CalcBot('looped'))\n",
    "garfield.run()"
   ]
  }
 ],
 "metadata": {
  "kernelspec": {
   "display_name": "Python 3",
   "language": "python",
   "name": "python3"
  },
  "language_info": {
   "codemirror_mode": {
    "name": "ipython",
    "version": 3
   },
   "file_extension": ".py",
   "mimetype": "text/x-python",
   "name": "python",
   "nbconvert_exporter": "python",
   "pygments_lexer": "ipython3",
   "version": "3.7.4"
  }
 },
 "nbformat": 4,
 "nbformat_minor": 4
}
