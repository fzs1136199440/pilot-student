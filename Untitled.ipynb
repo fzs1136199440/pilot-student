{
 "cells": [
  {
   "cell_type": "code",
   "execution_count": 25,
   "metadata": {},
   "outputs": [
    {
     "name": "stdout",
     "output_type": "stream",
     "text": [
      "0 is even\n",
      "0 is even\n",
      "2 is even\n",
      "1 is odd\n",
      "2 is even\n"
     ]
    }
   ],
   "source": [
    "from random import randrange\n",
    "\n",
    "while True:\n",
    "    n = randrange(-2, 5)\n",
    "    if n < 0:\n",
    "        break\n",
    "    elif n % 2 == 0:\n",
    "        print(n, 'is even')\n",
    "    else:\n",
    "        print(n, 'is odd')"
   ]
  }
 ],
 "metadata": {
  "kernelspec": {
   "display_name": "Python 3",
   "language": "python",
   "name": "python3"
  },
  "language_info": {
   "codemirror_mode": {
    "name": "ipython",
    "version": 3
   },
   "file_extension": ".py",
   "mimetype": "text/x-python",
   "name": "python",
   "nbconvert_exporter": "python",
   "pygments_lexer": "ipython3",
   "version": "3.7.4"
  }
 },
 "nbformat": 4,
 "nbformat_minor": 4
}
